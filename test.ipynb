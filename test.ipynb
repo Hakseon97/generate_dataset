{
 "cells": [
  {
   "cell_type": "code",
   "execution_count": 38,
   "metadata": {},
   "outputs": [
    {
     "name": "stdout",
     "output_type": "stream",
     "text": [
      "<PIL.ImageFont.FreeTypeFont object at 0x000001C0AEF99D90>\n"
     ]
    }
   ],
   "source": [
    "import os, sys\n",
    "import errno\n",
    "from pathlib import Path\n",
    "from glob import glob\n",
    "\n",
    "import random\n",
    "\n",
    "from PIL import Image, ImageDraw, ImageFont\n",
    "import textwrap\n",
    "from tqdm import tqdm\n",
    "\n",
    "from pigen.parser import argument_parser\n",
    "from pigen.utils import create_strings_from_wikipedia\n",
    "\n",
    "resource_dir = \"./resources\"\n",
    "\n",
    "\n",
    "# Create font (path) list\n",
    "font_path = Path(resource_dir) / \"fonts\"\n",
    "\n",
    "if list(font_path.glob('*.ttf')):\n",
    "    fonts = list(glob(str(font_path / \"*.ttf\")))\n",
    "    rnd_font = random.randrange(0, len(fonts))\n",
    "    select_font = ImageFont.truetype(fonts[rnd_font], 20)\n",
    "else:\n",
    "    sys.exit(\"Cannot open font\")\n"
   ]
  }
 ],
 "metadata": {
  "kernelspec": {
   "display_name": "korean",
   "language": "python",
   "name": "python3"
  },
  "language_info": {
   "codemirror_mode": {
    "name": "ipython",
    "version": 3
   },
   "file_extension": ".py",
   "mimetype": "text/x-python",
   "name": "python",
   "nbconvert_exporter": "python",
   "pygments_lexer": "ipython3",
   "version": "3.9.19"
  }
 },
 "nbformat": 4,
 "nbformat_minor": 2
}
